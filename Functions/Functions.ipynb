{
  "nbformat": 4,
  "nbformat_minor": 0,
  "metadata": {
    "colab": {
      "provenance": []
    },
    "kernelspec": {
      "name": "python3",
      "display_name": "Python 3"
    },
    "language_info": {
      "name": "python"
    }
  },
  "cells": [
    {
      "cell_type": "markdown",
      "source": [
        "# FUNÇÕES\n"
      ],
      "metadata": {
        "id": "NAkp2_svI9Ho"
      }
    },
    {
      "cell_type": "markdown",
      "source": [
        "**ESTRUTURA**"
      ],
      "metadata": {
        "id": "uRyyWsISJuiV"
      }
    },
    {
      "cell_type": "code",
      "execution_count": 1,
      "metadata": {
        "colab": {
          "base_uri": "https://localhost:8080/"
        },
        "id": "86CGXNUdIW0v",
        "outputId": "21b464e6-2cdc-4bfe-8a17-977b2619305b"
      },
      "outputs": [
        {
          "output_type": "stream",
          "name": "stdout",
          "text": [
            "Mensagem...\n"
          ]
        }
      ],
      "source": [
        "def exibir_mensagem():\n",
        "    print('Mensagem...')\n",
        "\n",
        "exibir_mensagem()"
      ]
    },
    {
      "cell_type": "code",
      "source": [
        "def exibir_nome(nome):\n",
        "  print(f'Olá {nome}')\n",
        "\n",
        "exibir_nome('Daniel')"
      ],
      "metadata": {
        "colab": {
          "base_uri": "https://localhost:8080/"
        },
        "id": "9Rwcr6bhJIFy",
        "outputId": "93e888d0-3ddd-42eb-99b5-374bab5af8e3"
      },
      "execution_count": 2,
      "outputs": [
        {
          "output_type": "stream",
          "name": "stdout",
          "text": [
            "Olá Daniel\n"
          ]
        }
      ]
    },
    {
      "cell_type": "markdown",
      "source": [
        "Se nenhum return for informado, a função retorna none"
      ],
      "metadata": {
        "id": "AmUaXLEIJYlr"
      }
    },
    {
      "cell_type": "code",
      "source": [
        "def calcular_total(numeros):\n",
        "  return sum(numeros)\n",
        "\n",
        "calcular_total([10, 20, 34, 56, 76])"
      ],
      "metadata": {
        "colab": {
          "base_uri": "https://localhost:8080/"
        },
        "id": "M7U8Chn_JWrZ",
        "outputId": "fbf4d5c9-24b3-4a46-dfe2-447059cbe7ab"
      },
      "execution_count": 3,
      "outputs": [
        {
          "output_type": "execute_result",
          "data": {
            "text/plain": [
              "196"
            ]
          },
          "metadata": {},
          "execution_count": 3
        }
      ]
    },
    {
      "cell_type": "code",
      "source": [
        "def sucessor_e_antecessor(numero):\n",
        "  sucessor = numero - 1\n",
        "  antecessor = numero + 1\n",
        "  return sucessor, antecessor\n",
        "\n",
        "sucessor_e_antecessor(10)"
      ],
      "metadata": {
        "colab": {
          "base_uri": "https://localhost:8080/"
        },
        "id": "dxLFxGDuJhTr",
        "outputId": "b3ab541b-dff1-405d-e210-34818110e32d"
      },
      "execution_count": 5,
      "outputs": [
        {
          "output_type": "execute_result",
          "data": {
            "text/plain": [
              "(9, 11)"
            ]
          },
          "metadata": {},
          "execution_count": 5
        }
      ]
    },
    {
      "cell_type": "markdown",
      "source": [
        "**ARGUMENTOS NOMEADOS**\n",
        "\n",
        "*args --> Tupla\n",
        "\n",
        "**kwargs --> Dicionário"
      ],
      "metadata": {
        "id": "vfHB7UWmJsLD"
      }
    },
    {
      "cell_type": "code",
      "source": [
        "def salvar_carro(marca, modelo, ano, placa):\n",
        "  print(f'Carro inserido com sucesso! {marca}/{modelo}/{ano}/{placa}')\n",
        "\n",
        "# Seguindo a sequência\n",
        "salvar_carro('Fiat', 'Palio', 1999, 'ABC-1234')\n",
        "\n",
        "# Inserindo diretamente\n",
        "salvar_carro(marca='Fiat', modelo='Palio', ano=1999, placa='ABC-1234')\n",
        "\n",
        "# Inserindo em forma de dicionário\n",
        "salvar_carro(**{'marca': 'Fiat', 'modelo': 'Palio', 'ano': 1999, 'placa': 'ABC-1234'})"
      ],
      "metadata": {
        "colab": {
          "base_uri": "https://localhost:8080/"
        },
        "id": "3PryTjdgJwP7",
        "outputId": "7cf562a2-520c-48da-ea56-12b0817e6896"
      },
      "execution_count": 7,
      "outputs": [
        {
          "output_type": "stream",
          "name": "stdout",
          "text": [
            "Carro inserido com sucesso! Fiat/Palio/1999/ABC-1234\n",
            "Carro inserido com sucesso! Fiat/Palio/1999/ABC-1234\n"
          ]
        }
      ]
    },
    {
      "cell_type": "markdown",
      "source": [
        "**PARAMETROS ESPECIAIS**"
      ],
      "metadata": {
        "id": "MXuLJOXILIiw"
      }
    },
    {
      "cell_type": "code",
      "source": [
        "def criar_carro(modelo, ano, placa, /, marca, motor, combustivel):\n",
        "  print(modelo, ano, placa, marca, motor, combustivel)\n",
        "\n",
        "criar_carro('Palio', 1999, 'ABC-1234', marca='Fiat', motor='1.0', combustivel='Gasolina') # Válido"
      ],
      "metadata": {
        "id": "_NXzI0bOKZFE"
      },
      "execution_count": null,
      "outputs": []
    },
    {
      "cell_type": "markdown",
      "source": [
        "**OBJETOS DE PRIMEIRA CLASSE**\n",
        "\n",
        "É uma entidade que pode ser atribuída a variáveis, passada como argumento e retornada por funções, assim como qualquer outro valor."
      ],
      "metadata": {
        "id": "bQ_044K4LeBo"
      }
    },
    {
      "cell_type": "code",
      "source": [
        "def somar(a,b):\n",
        "  return a + b\n",
        "\n",
        "def exibir_resultado(a, b, funcao):\n",
        "  resultado = funcao(a, b)\n",
        "  print(f'O resultado de {a} + {b} = {resultado}')\n",
        "\n",
        "exibir_resultado(15, 10, somar)"
      ],
      "metadata": {
        "colab": {
          "base_uri": "https://localhost:8080/"
        },
        "id": "AhFp4alVLdvA",
        "outputId": "605ec444-fff1-4174-8d25-b40afc03995c"
      },
      "execution_count": 10,
      "outputs": [
        {
          "output_type": "stream",
          "name": "stdout",
          "text": [
            "O resultado de 15 + 10 = 25\n"
          ]
        }
      ]
    },
    {
      "cell_type": "markdown",
      "source": [
        "**ESCOPO LOCAL E ESCOPO GLOBAL**\n",
        "\n",
        "Local --> Dentro da Função\n",
        "\n",
        "Global --> Fora da Função\n"
      ],
      "metadata": {
        "id": "Wq3_3DI1S8bO"
      }
    },
    {
      "cell_type": "code",
      "source": [
        "salario =  2000\n",
        "\n",
        "def salario_bonus(bonus):\n",
        "  global salario\n",
        "  salario += bonus\n",
        "  return salario\n",
        "\n",
        "salario_bonus(500)"
      ],
      "metadata": {
        "colab": {
          "base_uri": "https://localhost:8080/"
        },
        "id": "mmhc4FWXS_Bu",
        "outputId": "02dabd6d-e4d7-4be3-9e71-9ea88139425c"
      },
      "execution_count": 12,
      "outputs": [
        {
          "output_type": "execute_result",
          "data": {
            "text/plain": [
              "2500"
            ]
          },
          "metadata": {},
          "execution_count": 12
        }
      ]
    }
  ]
}
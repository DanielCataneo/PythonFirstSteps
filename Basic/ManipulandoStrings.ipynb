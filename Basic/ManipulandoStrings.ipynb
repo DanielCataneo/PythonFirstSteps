{
 "cells": [
  {
   "cell_type": "markdown",
   "metadata": {
    "id": "8mfRJBVVU67K"
   },
   "source": [
    "**MÉTODOS ÚTEIS PARA STRINGS**\n",
    "\n",
    "- lower (Todas as letras para maiúsculo)\n",
    "- upper (Todas as letras para minúsculo)\n",
    "- title (Somente primeira letra maiúscula)\n",
    "- strip (Tira os espaços na string ' ')\n",
    "- len (Tamanho da String)"
   ]
  },
  {
   "cell_type": "code",
   "execution_count": 4,
   "metadata": {
    "colab": {
     "base_uri": "https://localhost:8080/"
    },
    "executionInfo": {
     "elapsed": 3,
     "status": "ok",
     "timestamp": 1751496849480,
     "user": {
      "displayName": "Daniel Cataneo",
      "userId": "04340186764455459218"
     },
     "user_tz": 180
    },
    "id": "nb7YnJhZUpad",
    "outputId": "591114fb-7ae9-4934-8501-7a86f7532441"
   },
   "outputs": [
    {
     "name": "stdout",
     "output_type": "stream",
     "text": [
      "  DANIEL  \n",
      "  daniel  \n",
      "  Daniel  \n",
      "DanIEl\n"
     ]
    }
   ],
   "source": [
    "nome = '  DanIEl  '\n",
    "print(nome.upper())\n",
    "print(nome.lower())\n",
    "print(nome.title())\n",
    "print(nome.strip())"
   ]
  },
  {
   "cell_type": "code",
   "execution_count": 3,
   "metadata": {
    "colab": {
     "base_uri": "https://localhost:8080/"
    },
    "executionInfo": {
     "elapsed": 12,
     "status": "ok",
     "timestamp": 1751496769220,
     "user": {
      "displayName": "Daniel Cataneo",
      "userId": "04340186764455459218"
     },
     "user_tz": 180
    },
    "id": "yUyMUJslV3VT",
    "outputId": "55858a23-198a-440b-9b64-7e1f00acf3b4"
   },
   "outputs": [
    {
     "data": {
      "text/plain": [
       "10"
      ]
     },
     "execution_count": 3,
     "metadata": {},
     "output_type": "execute_result"
    }
   ],
   "source": [
    "len(nome)"
   ]
  },
  {
   "cell_type": "markdown",
   "metadata": {
    "id": "T7qfSW6sXE_G"
   },
   "source": [
    "**INTERPOLAÇÃO DE VARIÁVEIS**\n",
    "\n",
    "f-string"
   ]
  },
  {
   "cell_type": "code",
   "execution_count": 5,
   "metadata": {
    "colab": {
     "base_uri": "https://localhost:8080/"
    },
    "executionInfo": {
     "elapsed": 5,
     "status": "ok",
     "timestamp": 1751497449093,
     "user": {
      "displayName": "Daniel Cataneo",
      "userId": "04340186764455459218"
     },
     "user_tz": 180
    },
    "id": "EykZSy0mXJbB",
    "outputId": "af01d131-0d51-4b47-a77a-a78e6cb58a30"
   },
   "outputs": [
    {
     "name": "stdout",
     "output_type": "stream",
     "text": [
      "Olá, me chamo Daniel, tenho 19 anos e atualmente sou estudante\n"
     ]
    }
   ],
   "source": [
    "nome = 'Daniel'\n",
    "idade = 19\n",
    "profissao = 'estudante'\n",
    "\n",
    "print(f'Olá, me chamo {nome}, tenho {idade} anos e atualmente sou {profissao}')"
   ]
  },
  {
   "cell_type": "code",
   "execution_count": 6,
   "metadata": {
    "colab": {
     "base_uri": "https://localhost:8080/"
    },
    "executionInfo": {
     "elapsed": 12,
     "status": "ok",
     "timestamp": 1751497472552,
     "user": {
      "displayName": "Daniel Cataneo",
      "userId": "04340186764455459218"
     },
     "user_tz": 180
    },
    "id": "oeoOC0WlYiwP",
    "outputId": "10e323f6-4466-4a34-8789-507ae993b729"
   },
   "outputs": [
    {
     "name": "stdout",
     "output_type": "stream",
     "text": [
      "Valor de Pi: 3.14\n"
     ]
    }
   ],
   "source": [
    "# Formatando string com f-string\n",
    "\n",
    "Pi = 3.14159\n",
    "\n",
    "print(f'Valor de Pi: {Pi:.2f}')"
   ]
  },
  {
   "cell_type": "markdown",
   "metadata": {
    "id": "W4OTObwBYvHZ"
   },
   "source": [
    "**FATIAMENTO DE STRINGS**\n",
    "\n",
    "nome_variavel_str[start: stop [, step]]\n",
    "\n",
    "obs.: Caso nenhum valor seja informado para o start o padrão é 0"
   ]
  },
  {
   "cell_type": "code",
   "execution_count": 12,
   "metadata": {
    "colab": {
     "base_uri": "https://localhost:8080/"
    },
    "executionInfo": {
     "elapsed": 3,
     "status": "ok",
     "timestamp": 1751497640294,
     "user": {
      "displayName": "Daniel Cataneo",
      "userId": "04340186764455459218"
     },
     "user_tz": 180
    },
    "id": "gZWd2vNLYz3Q",
    "outputId": "bfd11770-b6bd-440a-b941-476b6b9312c8"
   },
   "outputs": [
    {
     "name": "stdout",
     "output_type": "stream",
     "text": [
      "D\n",
      "Daniel\n",
      "Cataneo\n",
      "Daniel Cataneo\n"
     ]
    }
   ],
   "source": [
    "nome = 'Daniel Cataneo'\n",
    "\n",
    "print(nome[0])\n",
    "print(nome[:6])\n",
    "print(nome[7:])\n",
    "print(nome[:])\n"
   ]
  },
  {
   "cell_type": "markdown",
   "metadata": {
    "id": "2gDS9dU5ZrIs"
   },
   "source": [
    "**STRING MULTIPLAS LINHAS**"
   ]
  },
  {
   "cell_type": "code",
   "execution_count": 14,
   "metadata": {
    "colab": {
     "base_uri": "https://localhost:8080/"
    },
    "executionInfo": {
     "elapsed": 5,
     "status": "ok",
     "timestamp": 1751497859321,
     "user": {
      "displayName": "Daniel Cataneo",
      "userId": "04340186764455459218"
     },
     "user_tz": 180
    },
    "id": "w48NAZGeZ3li",
    "outputId": "865c4d67-e2eb-41fd-dab9-5ae0833b89f7"
   },
   "outputs": [
    {
     "name": "stdout",
     "output_type": "stream",
     "text": [
      "\n",
      "  Olá meu nome é Daniel,\n",
      " Eu estou aprendendo Python.\n",
      "    Essa mensagem é multiplas linhas.\n",
      "\n"
     ]
    }
   ],
   "source": [
    "nome = 'Daniel'\n",
    "\n",
    "mensagem = f'''\n",
    "  Olá meu nome é {nome},\n",
    " Eu estou aprendendo Python.\n",
    "    Essa mensagem é multiplas linhas.\n",
    "'''\n",
    "\n",
    "print(mensagem)"
   ]
  },
  {
   "cell_type": "code",
   "execution_count": 15,
   "metadata": {
    "colab": {
     "base_uri": "https://localhost:8080/"
    },
    "executionInfo": {
     "elapsed": 59,
     "status": "ok",
     "timestamp": 1751497920830,
     "user": {
      "displayName": "Daniel Cataneo",
      "userId": "04340186764455459218"
     },
     "user_tz": 180
    },
    "id": "3xL49eEiaIv4",
    "outputId": "e596d053-5784-4666-e750-7d6c0f8d70cc"
   },
   "outputs": [
    {
     "name": "stdout",
     "output_type": "stream",
     "text": [
      "\n",
      "\n",
      "******************* MENU *****************\n",
      "\n",
      "1 - Depositar\n",
      "2 - Sacar\n",
      "3 - Sair\n",
      "\n",
      "******************************************\n",
      "\n",
      "        Obrigado por usar nosso sistema.\n",
      "\n",
      "\n"
     ]
    }
   ],
   "source": [
    "print('''\n",
    "\n",
    "******************* MENU *****************\n",
    "\n",
    "1 - Depositar\n",
    "2 - Sacar\n",
    "3 - Sair\n",
    "\n",
    "******************************************\n",
    "\n",
    "        Obrigado por usar nosso sistema.\n",
    "\n",
    "''')"
   ]
  }
 ],
 "metadata": {
  "colab": {
   "authorship_tag": "ABX9TyPn+5xo793cYRHqbgBpTSiv",
   "provenance": []
  },
  "kernelspec": {
   "display_name": "Python 3",
   "name": "python3"
  },
  "language_info": {
   "name": "python"
  }
 },
 "nbformat": 4,
 "nbformat_minor": 0
}

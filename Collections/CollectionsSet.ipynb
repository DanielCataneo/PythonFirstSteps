{
  "nbformat": 4,
  "nbformat_minor": 0,
  "metadata": {
    "colab": {
      "provenance": []
    },
    "kernelspec": {
      "name": "python3",
      "display_name": "Python 3"
    },
    "language_info": {
      "name": "python"
    }
  },
  "cells": [
    {
      "cell_type": "markdown",
      "source": [
        "# **CONJUNTOS**\n",
        "\n",
        "Próximo a Lista, porém não aceita valores duplicados"
      ],
      "metadata": {
        "id": "YdbdUUQ8QDJr"
      }
    },
    {
      "cell_type": "code",
      "execution_count": 1,
      "metadata": {
        "colab": {
          "base_uri": "https://localhost:8080/"
        },
        "id": "PaIjgezlQA46",
        "outputId": "da8050b6-5a1d-4976-e8fc-061af68ca888"
      },
      "outputs": [
        {
          "output_type": "execute_result",
          "data": {
            "text/plain": [
              "{1, 2, 3, 4}"
            ]
          },
          "metadata": {},
          "execution_count": 1
        }
      ],
      "source": [
        "set([1,2,3,1,3,4])"
      ]
    },
    {
      "cell_type": "code",
      "source": [
        "letras = set('abacaxi')\n",
        "print(letras)"
      ],
      "metadata": {
        "colab": {
          "base_uri": "https://localhost:8080/"
        },
        "id": "wypnwFBjQf43",
        "outputId": "72ded3b7-cf09-487f-e1dd-15c05d150ba7"
      },
      "execution_count": 3,
      "outputs": [
        {
          "output_type": "stream",
          "name": "stdout",
          "text": [
            "{'x', 'i', 'b', 'c', 'a'}\n"
          ]
        }
      ]
    },
    {
      "cell_type": "code",
      "source": [
        "linguagens = {'Python','Java','Python'}\n",
        "print(linguagens)"
      ],
      "metadata": {
        "colab": {
          "base_uri": "https://localhost:8080/"
        },
        "id": "Dm2GUoDqQp0N",
        "outputId": "84b89e36-1873-4def-ecca-1df0bc42e42b"
      },
      "execution_count": 9,
      "outputs": [
        {
          "output_type": "stream",
          "name": "stdout",
          "text": [
            "{'Python', 'Java'}\n"
          ]
        }
      ]
    },
    {
      "cell_type": "markdown",
      "source": [
        "**OBS.: Conjuntos não permitem o acesso de dados por meio de index**"
      ],
      "metadata": {
        "id": "NOhnrU1JRSWh"
      }
    },
    {
      "cell_type": "code",
      "source": [
        "# Erro\n",
        "numeros = {1,2,3,4,3}\n",
        "numeros[0]"
      ],
      "metadata": {
        "colab": {
          "base_uri": "https://localhost:8080/",
          "height": 166
        },
        "id": "CaVj0Z3vRJq5",
        "outputId": "8dccadc1-3ba2-427b-f557-98654676e41d"
      },
      "execution_count": 10,
      "outputs": [
        {
          "output_type": "error",
          "ename": "TypeError",
          "evalue": "'set' object is not subscriptable",
          "traceback": [
            "\u001b[0;31m---------------------------------------------------------------------------\u001b[0m",
            "\u001b[0;31mTypeError\u001b[0m                                 Traceback (most recent call last)",
            "\u001b[0;32m/tmp/ipython-input-10-294208424.py\u001b[0m in \u001b[0;36m<cell line: 0>\u001b[0;34m()\u001b[0m\n\u001b[1;32m      1\u001b[0m \u001b[0mnumeros\u001b[0m \u001b[0;34m=\u001b[0m \u001b[0;34m{\u001b[0m\u001b[0;36m1\u001b[0m\u001b[0;34m,\u001b[0m\u001b[0;36m2\u001b[0m\u001b[0;34m,\u001b[0m\u001b[0;36m3\u001b[0m\u001b[0;34m,\u001b[0m\u001b[0;36m4\u001b[0m\u001b[0;34m,\u001b[0m\u001b[0;36m3\u001b[0m\u001b[0;34m}\u001b[0m\u001b[0;34m\u001b[0m\u001b[0;34m\u001b[0m\u001b[0m\n\u001b[0;32m----> 2\u001b[0;31m \u001b[0mnumeros\u001b[0m\u001b[0;34m[\u001b[0m\u001b[0;36m0\u001b[0m\u001b[0;34m]\u001b[0m\u001b[0;34m\u001b[0m\u001b[0;34m\u001b[0m\u001b[0m\n\u001b[0m",
            "\u001b[0;31mTypeError\u001b[0m: 'set' object is not subscriptable"
          ]
        }
      ]
    },
    {
      "cell_type": "code",
      "source": [
        "numeros = {1,2,3,2}\n",
        "numeros = list(numeros)\n",
        "numeros[0]"
      ],
      "metadata": {
        "colab": {
          "base_uri": "https://localhost:8080/"
        },
        "id": "qwA0MhYZRgxT",
        "outputId": "42d78d15-7f4e-4c4d-9bc4-93cd7d3be453"
      },
      "execution_count": 13,
      "outputs": [
        {
          "output_type": "execute_result",
          "data": {
            "text/plain": [
              "1"
            ]
          },
          "metadata": {},
          "execution_count": 13
        }
      ]
    },
    {
      "cell_type": "code",
      "source": [
        "numeros = {1,2,3,4,3}\n",
        "numeros.add(5)\n",
        "print(numeros)"
      ],
      "metadata": {
        "colab": {
          "base_uri": "https://localhost:8080/"
        },
        "id": "ZsLiKf6TRdlp",
        "outputId": "d3fb7acd-0428-4e7c-cc55-c6307f1b7dea"
      },
      "execution_count": 11,
      "outputs": [
        {
          "output_type": "stream",
          "name": "stdout",
          "text": [
            "{1, 2, 3, 4, 5}\n"
          ]
        }
      ]
    },
    {
      "cell_type": "markdown",
      "source": [
        "**ITERANDO**"
      ],
      "metadata": {
        "id": "-SVUZh_7RyKX"
      }
    },
    {
      "cell_type": "code",
      "source": [
        "linguagens = {'Python','Java','Python'}\n",
        "\n",
        "for x in linguagens:\n",
        "  print(x)"
      ],
      "metadata": {
        "colab": {
          "base_uri": "https://localhost:8080/"
        },
        "id": "5ieIPvx1R0Ay",
        "outputId": "1b69c4d2-6b66-4ed0-bea0-8d7dbd05ff06"
      },
      "execution_count": 14,
      "outputs": [
        {
          "output_type": "stream",
          "name": "stdout",
          "text": [
            "Python\n",
            "Java\n"
          ]
        }
      ]
    },
    {
      "cell_type": "code",
      "source": [
        "linguagens = {'Python','Java','Python'}\n",
        "\n",
        "for indice, linguagens in enumerate(linguagens):\n",
        "  print(f'{indice}: {linguagens}')"
      ],
      "metadata": {
        "colab": {
          "base_uri": "https://localhost:8080/"
        },
        "id": "6lDuMsB7R9kp",
        "outputId": "7d21a57c-02ed-4a11-8bb1-f369feb6973b"
      },
      "execution_count": 16,
      "outputs": [
        {
          "output_type": "stream",
          "name": "stdout",
          "text": [
            "0: Python\n",
            "1: Java\n"
          ]
        }
      ]
    },
    {
      "cell_type": "markdown",
      "source": [
        "**MÉTODOS DA CLASSE SET**\n",
        "\n",
        "- .conjunto_a.union(conjunto_b) --> Une 2 conjuntos\n",
        "- .conjunto_a.intersection(conjunto_b) --> Une somente os iguais\n",
        "- .conjunto_a.difference(conjunto_b) --> Mostra somente os diferentes\n",
        "- .conjunto_a.issubset(conjunto_b) --> Boll que retorna se todos os elementos de a estão em b\n",
        "- .conjunto_a.issuperset(conjunto_b) --> Mesma Lógica\n",
        "- .conjunto_a.iddisjoint(conjunto_b) --> Boll que verifica se tem alguma semelhanca entre os conjuntos\n",
        "- .add(valor) --> Adiciona p valor no set somente se não existir\n",
        "- .clear() --> limpa o conjunto\n",
        "- .copy() --> copia\n",
        "- .discard(valor) --> remove o valor\n",
        "- .pop() --> Retira o primeiro valor da lista\n",
        "- Len() --> Tamanho do conjunto\n",
        "- in --> Verifica se valor está dentro"
      ],
      "metadata": {
        "id": "toLMC5IeSJaU"
      }
    },
    {
      "cell_type": "code",
      "source": [
        "# Union\n",
        "conjunto_a = {1,2,3,4}\n",
        "conjunto_b = {4,5,6,7}\n",
        "\n",
        "conjunto_a.union(conjunto_b)"
      ],
      "metadata": {
        "colab": {
          "base_uri": "https://localhost:8080/"
        },
        "id": "V59nMZjcUdiG",
        "outputId": "5b15a578-3e19-4f07-f5cb-82ad125faed9"
      },
      "execution_count": 1,
      "outputs": [
        {
          "output_type": "execute_result",
          "data": {
            "text/plain": [
              "{1, 2, 3, 4, 5, 6, 7}"
            ]
          },
          "metadata": {},
          "execution_count": 1
        }
      ]
    },
    {
      "cell_type": "code",
      "source": [
        "# Intersection\n",
        "conjunto_a = {1,2,3,4}\n",
        "conjunto_b = {4,5,6,7}\n",
        "\n",
        "conjunto_a.intersection(conjunto_b)"
      ],
      "metadata": {
        "colab": {
          "base_uri": "https://localhost:8080/"
        },
        "id": "wTwN5Qf6uSRc",
        "outputId": "138f7a99-e425-42db-9a37-de111e323e94"
      },
      "execution_count": 2,
      "outputs": [
        {
          "output_type": "execute_result",
          "data": {
            "text/plain": [
              "{4}"
            ]
          },
          "metadata": {},
          "execution_count": 2
        }
      ]
    },
    {
      "cell_type": "code",
      "source": [
        "# Difference\n",
        "conjunto_a = {1,2,3,4}\n",
        "conjunto_b = {4,5,6,7}\n",
        "\n",
        "conjunto_a.difference(conjunto_b)"
      ],
      "metadata": {
        "colab": {
          "base_uri": "https://localhost:8080/"
        },
        "id": "AQR5eGUouY_V",
        "outputId": "0046382d-5f0e-4920-ea8a-8030d0161794"
      },
      "execution_count": 3,
      "outputs": [
        {
          "output_type": "execute_result",
          "data": {
            "text/plain": [
              "{1, 2, 3}"
            ]
          },
          "metadata": {},
          "execution_count": 3
        }
      ]
    },
    {
      "cell_type": "code",
      "source": [
        "# Issubset\n",
        "conjunto_a = {1,2,3,4}\n",
        "conjunto_b = {1,2,3,4,5}\n",
        "\n",
        "conjunto_a.issubset(conjunto_b)"
      ],
      "metadata": {
        "colab": {
          "base_uri": "https://localhost:8080/"
        },
        "id": "taEX4jw8vTVd",
        "outputId": "5bd55705-bd5e-4ede-d39e-471740fc663a"
      },
      "execution_count": 6,
      "outputs": [
        {
          "output_type": "execute_result",
          "data": {
            "text/plain": [
              "True"
            ]
          },
          "metadata": {},
          "execution_count": 6
        }
      ]
    },
    {
      "cell_type": "code",
      "source": [
        "# Issuperset\n",
        "conjunto_a = {2,3,4,5}\n",
        "conjunto_b = {1,2,3,4}\n",
        "\n",
        "conjunto_a.issuperset(conjunto_b)"
      ],
      "metadata": {
        "colab": {
          "base_uri": "https://localhost:8080/"
        },
        "id": "5h3J8ezevW4K",
        "outputId": "bdc3a701-dc9e-478e-e551-e8bf9f7416f2"
      },
      "execution_count": 7,
      "outputs": [
        {
          "output_type": "execute_result",
          "data": {
            "text/plain": [
              "False"
            ]
          },
          "metadata": {},
          "execution_count": 7
        }
      ]
    },
    {
      "cell_type": "code",
      "source": [
        "# Isdisjoint\n",
        "conjunto_a = {1,2,3,4}\n",
        "conjunto_b = {5,6,7,8}\n",
        "\n",
        "conjunto_a.isdisjoint(conjunto_b)"
      ],
      "metadata": {
        "colab": {
          "base_uri": "https://localhost:8080/"
        },
        "id": "jgF2vdwuvwfm",
        "outputId": "3724ddd6-02fb-4f09-86d5-a6976a3cf3a6"
      },
      "execution_count": 11,
      "outputs": [
        {
          "output_type": "execute_result",
          "data": {
            "text/plain": [
              "True"
            ]
          },
          "metadata": {},
          "execution_count": 11
        }
      ]
    },
    {
      "cell_type": "code",
      "source": [
        "# Add\n",
        "conjunto = {1,2,3}\n",
        "conjunto.add(4)\n",
        "print(conjunto)"
      ],
      "metadata": {
        "colab": {
          "base_uri": "https://localhost:8080/"
        },
        "id": "l9tBQEZnv9lY",
        "outputId": "e36a5821-c221-4332-e367-04ca83ea75b2"
      },
      "execution_count": 15,
      "outputs": [
        {
          "output_type": "stream",
          "name": "stdout",
          "text": [
            "{1, 2, 3, 4}\n"
          ]
        }
      ]
    },
    {
      "cell_type": "code",
      "source": [
        " # Clear\n",
        " conjunto_2 = {1,2,3}\n",
        " conjunto_2.clear()\n",
        " print(conjunto_2)"
      ],
      "metadata": {
        "colab": {
          "base_uri": "https://localhost:8080/"
        },
        "id": "9rXJ_xbNwALf",
        "outputId": "49500be4-72dc-4d85-d99d-499d93828f00"
      },
      "execution_count": 16,
      "outputs": [
        {
          "output_type": "stream",
          "name": "stdout",
          "text": [
            "set()\n"
          ]
        }
      ]
    },
    {
      "cell_type": "code",
      "source": [
        "# Discard\n",
        "conjunto_3 = {1,2,3}\n",
        "conjunto_3.discard(2)\n",
        "print(conjunto_3)"
      ],
      "metadata": {
        "colab": {
          "base_uri": "https://localhost:8080/"
        },
        "id": "IdPuwm0LwH4c",
        "outputId": "c071ab17-24c9-4d17-a85a-2f6a0154ceee"
      },
      "execution_count": 17,
      "outputs": [
        {
          "output_type": "stream",
          "name": "stdout",
          "text": [
            "{1, 3}\n"
          ]
        }
      ]
    },
    {
      "cell_type": "code",
      "source": [
        "# Pop\n",
        "conjunto_4 = {1,2,3}\n",
        "conjunto_4.pop()\n",
        "print(conjunto_4)"
      ],
      "metadata": {
        "colab": {
          "base_uri": "https://localhost:8080/"
        },
        "id": "U6j1qY3BwOq5",
        "outputId": "c1976c4d-a92f-4160-a194-856fb7122d5c"
      },
      "execution_count": 18,
      "outputs": [
        {
          "output_type": "stream",
          "name": "stdout",
          "text": [
            "{2, 3}\n"
          ]
        }
      ]
    },
    {
      "cell_type": "code",
      "source": [
        "# Len\n",
        "conjunto_5 = {1,2,3}\n",
        "print(len(conjunto_5))"
      ],
      "metadata": {
        "colab": {
          "base_uri": "https://localhost:8080/"
        },
        "id": "b4aEoOj2wT6S",
        "outputId": "880a4a3b-3e88-4b25-a161-42362797a417"
      },
      "execution_count": 19,
      "outputs": [
        {
          "output_type": "stream",
          "name": "stdout",
          "text": [
            "3\n"
          ]
        }
      ]
    },
    {
      "cell_type": "code",
      "source": [
        "# in\n",
        "conjunto_6 = {1,2,3}\n",
        "print(1 in conjunto_6)\n",
        "#"
      ],
      "metadata": {
        "id": "ZhP917RvwVd7",
        "outputId": "72feba87-4b33-4cd5-ca24-e9b609802044",
        "colab": {
          "base_uri": "https://localhost:8080/"
        }
      },
      "execution_count": 20,
      "outputs": [
        {
          "output_type": "stream",
          "name": "stdout",
          "text": [
            "True\n"
          ]
        }
      ]
    }
  ]
}
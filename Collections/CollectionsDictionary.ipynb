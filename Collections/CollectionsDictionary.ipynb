{
  "nbformat": 4,
  "nbformat_minor": 0,
  "metadata": {
    "colab": {
      "provenance": []
    },
    "kernelspec": {
      "name": "python3",
      "display_name": "Python 3"
    },
    "language_info": {
      "name": "python"
    }
  },
  "cells": [
    {
      "cell_type": "markdown",
      "source": [
        "# **DICTIONARY**\n",
        "\n",
        "{chave:valor}"
      ],
      "metadata": {
        "id": "m4UPN8jqx0md"
      }
    },
    {
      "cell_type": "code",
      "source": [
        "pessoa = {'Nome': 'Guilherme','idade':28}\n",
        "\n",
        "pessoa['Telefone'] = '3333-1234'"
      ],
      "metadata": {
        "id": "vj1-FwRdykdQ"
      },
      "execution_count": 9,
      "outputs": []
    },
    {
      "cell_type": "code",
      "source": [
        "# Sintaxe alternativa\n",
        "pessoa = dict(nome='Guilherme', idade =28)"
      ],
      "metadata": {
        "id": "p5hM4iQCzIxX"
      },
      "execution_count": 7,
      "outputs": []
    },
    {
      "cell_type": "markdown",
      "source": [
        "**ACESSANDO DADOS DENTRO DO DICTIONARY**"
      ],
      "metadata": {
        "id": "Ha3PnBWO0cbq"
      }
    },
    {
      "cell_type": "code",
      "source": [
        "print(pessoa['Nome'])\n",
        "print(pessoa['idade'])\n",
        "print(pessoa['Telefone'])"
      ],
      "metadata": {
        "colab": {
          "base_uri": "https://localhost:8080/"
        },
        "id": "zjR4siwt0fys",
        "outputId": "292bc69c-a7c9-450e-e7be-01a61e19dfb1"
      },
      "execution_count": 10,
      "outputs": [
        {
          "output_type": "stream",
          "name": "stdout",
          "text": [
            "Guilherme\n",
            "28\n",
            "3333-1234\n"
          ]
        }
      ]
    },
    {
      "cell_type": "markdown",
      "source": [
        "**SOBRESCREVENDO OS VALORES**"
      ],
      "metadata": {
        "id": "RWwu7EDD1ERf"
      }
    },
    {
      "cell_type": "code",
      "source": [
        "pessoa['Nome'] = 'Maria'\n",
        "pessoa['idade'] = 18\n",
        "pessoa['Telefone'] = '9999-1234'\n",
        "\n",
        "pessoa"
      ],
      "metadata": {
        "colab": {
          "base_uri": "https://localhost:8080/"
        },
        "id": "hjjUuKik1DOc",
        "outputId": "b557ef45-3e1c-4798-89d0-8eb5f8fdc2a4"
      },
      "execution_count": 11,
      "outputs": [
        {
          "output_type": "execute_result",
          "data": {
            "text/plain": [
              "{'Nome': 'Maria', 'idade': 18, 'Telefone': '9999-1234'}"
            ]
          },
          "metadata": {},
          "execution_count": 11
        }
      ]
    },
    {
      "cell_type": "markdown",
      "source": [
        "**DICTIONARY ANINHADOS**"
      ],
      "metadata": {
        "id": "TUl8hUcZ17yS"
      }
    },
    {
      "cell_type": "code",
      "source": [
        "contatos = {\n",
        "    'dani@gmail.com':{'nome':'Daniel','fone':'3333-2221'},\n",
        "    'guilherme@gmail.com':{'nome':'Guilherme','fone':'3443-2121'},\n",
        "    'maria@gmail.com':{'nome':'Maria','fone':'5443-2121'}\n",
        "}\n",
        "\n",
        "contatos['dani@gmail.com']['fone']"
      ],
      "metadata": {
        "colab": {
          "base_uri": "https://localhost:8080/",
          "height": 36
        },
        "id": "r8JQGOmE1OW7",
        "outputId": "b4b25f6e-7b9d-47ea-ba2c-5f3016419c3f"
      },
      "execution_count": 12,
      "outputs": [
        {
          "output_type": "execute_result",
          "data": {
            "text/plain": [
              "'3333-2221'"
            ],
            "application/vnd.google.colaboratory.intrinsic+json": {
              "type": "string"
            }
          },
          "metadata": {},
          "execution_count": 12
        }
      ]
    },
    {
      "cell_type": "markdown",
      "source": [
        "**ITERANDO**"
      ],
      "metadata": {
        "id": "HyHGe2-W2TXj"
      }
    },
    {
      "cell_type": "code",
      "source": [
        "for x in contatos:\n",
        "  print(x, contatos[x])"
      ],
      "metadata": {
        "colab": {
          "base_uri": "https://localhost:8080/"
        },
        "id": "QW5NV-SM17YT",
        "outputId": "4ae42c10-6145-4f00-9ae6-99271937e8e8"
      },
      "execution_count": 13,
      "outputs": [
        {
          "output_type": "stream",
          "name": "stdout",
          "text": [
            "dani@gmail.com {'nome': 'Daniel', 'fone': '3333-2221'}\n",
            "guilherme@gmail.com {'nome': 'Guilherme', 'fone': '3443-2121'}\n",
            "maria@gmail.com {'nome': 'Maria', 'fone': '5443-2121'}\n"
          ]
        }
      ]
    },
    {
      "cell_type": "code",
      "source": [
        "for chave,valor in contatos.items():\n",
        "  print(chave,valor)"
      ],
      "metadata": {
        "colab": {
          "base_uri": "https://localhost:8080/"
        },
        "id": "CpjUW8jA2Zv8",
        "outputId": "0e3fa4d6-108d-43bc-d689-4de3a391618d"
      },
      "execution_count": 14,
      "outputs": [
        {
          "output_type": "stream",
          "name": "stdout",
          "text": [
            "dani@gmail.com {'nome': 'Daniel', 'fone': '3333-2221'}\n",
            "guilherme@gmail.com {'nome': 'Guilherme', 'fone': '3443-2121'}\n",
            "maria@gmail.com {'nome': 'Maria', 'fone': '5443-2121'}\n"
          ]
        }
      ]
    },
    {
      "cell_type": "markdown",
      "source": [
        "**MÉTODOS DA CLASSE DICT**\n",
        "\n",
        "- .clear() --> Limpa tudo\n",
        "- .copy() --> copia o dict\n",
        "- .fromkeys(['...']) --> Cria conjunto de chaves\n",
        "- .fromkeys(['...'], '...') --> Cria conjunto de chaves com padrão\n",
        "- .items() --> Retorna tuplas do dict\n",
        "- .keys() --> Retorna as chaves do dict\n",
        "- .pop('...', 'não encontrado') --> Remove o valor passado\n",
        "- .popitem() --> Retira os itens na sequencia\n",
        "- .setdefault('x','...') --> Se x encontrado, retorna x, se não adiciona x\n",
        "- .update({outro dict{ }}) --> Permite alterar o dict\n",
        "- .values() --> Retorna todos os dict\n",
        "- in --> Verifica se Chave está dentro do dict\n",
        "\n",
        "\n"
      ],
      "metadata": {
        "id": "Uew3EJVu3hD5"
      }
    },
    {
      "cell_type": "code",
      "source": [
        "# Clear\n",
        "pessoa.clear()\n",
        "pessoa"
      ],
      "metadata": {
        "colab": {
          "base_uri": "https://localhost:8080/"
        },
        "id": "eFYU02oQ3MvZ",
        "outputId": "ed4230cf-ec05-4f30-e6cb-a083c39e6f20"
      },
      "execution_count": 15,
      "outputs": [
        {
          "output_type": "execute_result",
          "data": {
            "text/plain": [
              "{}"
            ]
          },
          "metadata": {},
          "execution_count": 15
        }
      ]
    },
    {
      "cell_type": "code",
      "source": [
        "# Copy\n",
        "contatos_2 = contatos.copy()\n",
        "contatos_2"
      ],
      "metadata": {
        "colab": {
          "base_uri": "https://localhost:8080/"
        },
        "id": "T-ri0sMEm5ZV",
        "outputId": "c4f0725a-e46c-4a27-cec9-aeb783e2cd10"
      },
      "execution_count": 17,
      "outputs": [
        {
          "output_type": "execute_result",
          "data": {
            "text/plain": [
              "{'dani@gmail.com': {'nome': 'Daniel', 'fone': '3333-2221'},\n",
              " 'guilherme@gmail.com': {'nome': 'Guilherme', 'fone': '3443-2121'},\n",
              " 'maria@gmail.com': {'nome': 'Maria', 'fone': '5443-2121'}}"
            ]
          },
          "metadata": {},
          "execution_count": 17
        }
      ]
    },
    {
      "cell_type": "code",
      "source": [
        "# FromKeys\n",
        "pessoa = dict.fromkeys(['nome','idade','peso'])\n",
        "pessoa"
      ],
      "metadata": {
        "colab": {
          "base_uri": "https://localhost:8080/"
        },
        "id": "Ja8sOPl1nIhG",
        "outputId": "45d7a93f-3da4-441a-e54b-1495e442df00"
      },
      "execution_count": 18,
      "outputs": [
        {
          "output_type": "execute_result",
          "data": {
            "text/plain": [
              "{'nome': None, 'idade': None, 'peso': None}"
            ]
          },
          "metadata": {},
          "execution_count": 18
        }
      ]
    },
    {
      "cell_type": "code",
      "source": [
        "# FromKeysII\n",
        "pessoa = dict.fromkeys(['nome','idade','peso'], 'vazio')\n",
        "pessoa"
      ],
      "metadata": {
        "colab": {
          "base_uri": "https://localhost:8080/"
        },
        "id": "x9KBk2T6nQxH",
        "outputId": "17de35cd-63cb-4dc7-d712-ef5d659d4047"
      },
      "execution_count": 19,
      "outputs": [
        {
          "output_type": "execute_result",
          "data": {
            "text/plain": [
              "{'nome': 'vazio', 'idade': 'vazio', 'peso': 'vazio'}"
            ]
          },
          "metadata": {},
          "execution_count": 19
        }
      ]
    },
    {
      "cell_type": "code",
      "source": [
        "# Items\n",
        "pessoa.items()"
      ],
      "metadata": {
        "colab": {
          "base_uri": "https://localhost:8080/"
        },
        "id": "OcnVMM8BnVBT",
        "outputId": "2e14be4a-290c-40ed-da56-d226891f70bd"
      },
      "execution_count": 20,
      "outputs": [
        {
          "output_type": "execute_result",
          "data": {
            "text/plain": [
              "dict_items([('nome', 'vazio'), ('idade', 'vazio'), ('peso', 'vazio')])"
            ]
          },
          "metadata": {},
          "execution_count": 20
        }
      ]
    },
    {
      "cell_type": "code",
      "source": [
        "# Keys\n",
        "pessoa.keys()"
      ],
      "metadata": {
        "colab": {
          "base_uri": "https://localhost:8080/"
        },
        "id": "wFpeSIcznaLl",
        "outputId": "d2eb3796-a148-4d54-8f47-e7bf6cc1f782"
      },
      "execution_count": 21,
      "outputs": [
        {
          "output_type": "execute_result",
          "data": {
            "text/plain": [
              "dict_keys(['nome', 'idade', 'peso'])"
            ]
          },
          "metadata": {},
          "execution_count": 21
        }
      ]
    },
    {
      "cell_type": "code",
      "source": [
        "# Pop\n",
        "contatos_2.pop('guilherme@gmail.com')\n",
        "contatos_2"
      ],
      "metadata": {
        "colab": {
          "base_uri": "https://localhost:8080/"
        },
        "id": "XYLpd5PIndKK",
        "outputId": "2eda9c1a-06e1-41d5-f7ca-4d07e42e66b0"
      },
      "execution_count": 22,
      "outputs": [
        {
          "output_type": "execute_result",
          "data": {
            "text/plain": [
              "{'dani@gmail.com': {'nome': 'Daniel', 'fone': '3333-2221'},\n",
              " 'maria@gmail.com': {'nome': 'Maria', 'fone': '5443-2121'}}"
            ]
          },
          "metadata": {},
          "execution_count": 22
        }
      ]
    },
    {
      "cell_type": "code",
      "source": [
        "# Popitem\n",
        "contatos_2.popitem()"
      ],
      "metadata": {
        "colab": {
          "base_uri": "https://localhost:8080/"
        },
        "id": "UfDOdT02niCY",
        "outputId": "fe368b35-7756-4d56-9631-812454aa02cc"
      },
      "execution_count": 23,
      "outputs": [
        {
          "output_type": "execute_result",
          "data": {
            "text/plain": [
              "('maria@gmail.com', {'nome': 'Maria', 'fone': '5443-2121'})"
            ]
          },
          "metadata": {},
          "execution_count": 23
        }
      ]
    },
    {
      "cell_type": "code",
      "source": [
        "# SetDefault\n",
        "pessoa.setdefault('idade',28)\n",
        "pessoa"
      ],
      "metadata": {
        "colab": {
          "base_uri": "https://localhost:8080/"
        },
        "id": "2GLFrnh4nn_E",
        "outputId": "c3da38e9-f60a-46c5-d2b3-1ab08d437dfc"
      },
      "execution_count": 24,
      "outputs": [
        {
          "output_type": "execute_result",
          "data": {
            "text/plain": [
              "{'nome': 'vazio', 'idade': 'vazio', 'peso': 'vazio'}"
            ]
          },
          "metadata": {},
          "execution_count": 24
        }
      ]
    },
    {
      "cell_type": "code",
      "source": [
        "# Update\n",
        "pessoa.update({'idade':28})\n",
        "pessoa"
      ],
      "metadata": {
        "colab": {
          "base_uri": "https://localhost:8080/"
        },
        "id": "r17zXm_int9Y",
        "outputId": "7a7fd92b-b9a7-4887-baa4-89221c6a1233"
      },
      "execution_count": 25,
      "outputs": [
        {
          "output_type": "execute_result",
          "data": {
            "text/plain": [
              "{'nome': 'vazio', 'idade': 28, 'peso': 'vazio'}"
            ]
          },
          "metadata": {},
          "execution_count": 25
        }
      ]
    },
    {
      "cell_type": "code",
      "source": [
        "# Values\n",
        "contatos.values()"
      ],
      "metadata": {
        "colab": {
          "base_uri": "https://localhost:8080/"
        },
        "id": "T0ApK_9unwjk",
        "outputId": "0119d642-1039-400a-cf40-2c5ef163d9bb"
      },
      "execution_count": 27,
      "outputs": [
        {
          "output_type": "execute_result",
          "data": {
            "text/plain": [
              "dict_values([{'nome': 'Daniel', 'fone': '3333-2221'}, {'nome': 'Guilherme', 'fone': '3443-2121'}, {'nome': 'Maria', 'fone': '5443-2121'}])"
            ]
          },
          "metadata": {},
          "execution_count": 27
        }
      ]
    },
    {
      "cell_type": "code",
      "source": [
        "# in\n",
        "'dani@gmail.com' in contatos"
      ],
      "metadata": {
        "colab": {
          "base_uri": "https://localhost:8080/"
        },
        "id": "n2iMawh4n2t2",
        "outputId": "50292c0d-db8a-41af-e117-f6114be3107c"
      },
      "execution_count": 29,
      "outputs": [
        {
          "output_type": "execute_result",
          "data": {
            "text/plain": [
              "True"
            ]
          },
          "metadata": {},
          "execution_count": 29
        }
      ]
    }
  ]
}
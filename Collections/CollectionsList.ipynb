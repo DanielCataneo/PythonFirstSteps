{
  "nbformat": 4,
  "nbformat_minor": 0,
  "metadata": {
    "colab": {
      "provenance": []
    },
    "kernelspec": {
      "name": "python3",
      "display_name": "Python 3"
    },
    "language_info": {
      "name": "python"
    }
  },
  "cells": [
    {
      "cell_type": "markdown",
      "source": [
        "# **LISTAS**"
      ],
      "metadata": {
        "id": "RV8QA02cbENQ"
      }
    },
    {
      "cell_type": "code",
      "execution_count": null,
      "metadata": {
        "id": "aZ4CS94Ya71q"
      },
      "outputs": [],
      "source": [
        "frutas = ['laranja','maca','uva']\n",
        "\n",
        "# frutas = [] --> Lista Vazia\n",
        "\n",
        "letras = list('python')\n",
        "\n",
        "numeros = list(range(10))\n",
        "\n",
        "carro = ['Ferrari', 'F8', 4200000, 2020, 2900, 'São Paulo', True]"
      ]
    },
    {
      "cell_type": "markdown",
      "source": [
        "**Acessando dados dentro da lista**"
      ],
      "metadata": {
        "id": "hazLWtIYeUJX"
      }
    },
    {
      "cell_type": "code",
      "source": [
        "print(frutas[0])\n",
        "print(frutas[2])"
      ],
      "metadata": {
        "colab": {
          "base_uri": "https://localhost:8080/"
        },
        "id": "tewnb3s8eTza",
        "outputId": "76ba7c8b-db3d-402a-f8b8-af4c2b4c4af7"
      },
      "execution_count": null,
      "outputs": [
        {
          "output_type": "stream",
          "name": "stdout",
          "text": [
            "laranja\n",
            "uva\n"
          ]
        }
      ]
    },
    {
      "cell_type": "code",
      "source": [
        "for x in frutas:\n",
        "  print(x)"
      ],
      "metadata": {
        "colab": {
          "base_uri": "https://localhost:8080/"
        },
        "id": "OfJLTKzkfHx8",
        "outputId": "17160daa-31f1-4ca3-de8e-79a65ef97597"
      },
      "execution_count": null,
      "outputs": [
        {
          "output_type": "stream",
          "name": "stdout",
          "text": [
            "laranja\n",
            "maca\n",
            "uva\n"
          ]
        }
      ]
    },
    {
      "cell_type": "markdown",
      "source": [
        "**LISTAS BI-DIMENSIONAIS**"
      ],
      "metadata": {
        "id": "PyZXgthdfi7P"
      }
    },
    {
      "cell_type": "code",
      "source": [
        "matriz = [\n",
        "    [1,'a',2],\n",
        "    ['b',3,4],\n",
        "    [6,5,'c']\n",
        "]\n",
        "\n",
        "matriz[0] # Primeira Linha\n",
        "matriz[0][0] # Primeiro Valor"
      ],
      "metadata": {
        "colab": {
          "base_uri": "https://localhost:8080/"
        },
        "id": "O803N9d9fqKh",
        "outputId": "4b6d7629-69ab-4335-fcad-330e6a15b3de"
      },
      "execution_count": null,
      "outputs": [
        {
          "output_type": "execute_result",
          "data": {
            "text/plain": [
              "[1, 'a', 2]"
            ]
          },
          "metadata": {},
          "execution_count": 8
        }
      ]
    },
    {
      "cell_type": "markdown",
      "source": [
        "**FATIAMENTO**"
      ],
      "metadata": {
        "id": "yf0a8c2vgRBm"
      }
    },
    {
      "cell_type": "code",
      "source": [
        "lista = ['p','y','t','h','o','n']\n",
        "\n",
        "print(lista[2:])\n",
        "print(lista[:2])\n",
        "print(lista[1:3])\n",
        "print(lista[0:3:2])\n",
        "print(lista[::-1])"
      ],
      "metadata": {
        "colab": {
          "base_uri": "https://localhost:8080/"
        },
        "id": "-VqvZQA-gTRP",
        "outputId": "7d53030d-5f69-4a80-80e5-72240c70a260"
      },
      "execution_count": null,
      "outputs": [
        {
          "output_type": "stream",
          "name": "stdout",
          "text": [
            "['t', 'h', 'o', 'n']\n",
            "['p', 'y']\n",
            "['y', 't']\n",
            "['p', 't']\n",
            "['n', 'o', 'h', 't', 'y', 'p']\n"
          ]
        }
      ]
    },
    {
      "cell_type": "markdown",
      "source": [
        "**ITERANDO LISTAS**"
      ],
      "metadata": {
        "id": "Ok2OeJiggm9D"
      }
    },
    {
      "cell_type": "code",
      "source": [
        "carro = ['Gol','Ferrari','Palio']\n",
        "\n",
        "for car in carro:\n",
        "  print(car)"
      ],
      "metadata": {
        "colab": {
          "base_uri": "https://localhost:8080/"
        },
        "id": "7mVjqRXzgo67",
        "outputId": "7f0c0d38-c97e-45bd-fd9e-5ab505ba9d88"
      },
      "execution_count": null,
      "outputs": [
        {
          "output_type": "stream",
          "name": "stdout",
          "text": [
            "Gol\n",
            "Ferrari\n",
            "Palio\n"
          ]
        }
      ]
    },
    {
      "cell_type": "markdown",
      "source": [
        "**CRIANDO FILTRO EM LISTA**"
      ],
      "metadata": {
        "id": "2NmcxfpohCMa"
      }
    },
    {
      "cell_type": "code",
      "source": [
        "numeros = [1,30,21,2,34,100]\n",
        "\n",
        "pares = []\n",
        "\n",
        "for numero in numeros:\n",
        "  if numero % 2 == 0:\n",
        "    pares.append(numero)\n",
        "\n",
        "print(pares)"
      ],
      "metadata": {
        "colab": {
          "base_uri": "https://localhost:8080/"
        },
        "id": "6o96bEblhMJn",
        "outputId": "0a3559b1-af79-4e11-c7f0-f5270e601bb6"
      },
      "execution_count": null,
      "outputs": [
        {
          "output_type": "stream",
          "name": "stdout",
          "text": [
            "[30, 2, 34, 100]\n"
          ]
        }
      ]
    },
    {
      "cell_type": "code",
      "source": [
        "numeros = [1,2,3,4,5]\n",
        "\n",
        "quadrado = []\n",
        "\n",
        "for num in numeros:\n",
        "  quadrado.append(num**2)\n",
        "\n",
        "print(quadrado)"
      ],
      "metadata": {
        "colab": {
          "base_uri": "https://localhost:8080/"
        },
        "id": "28wC9nbvhlfF",
        "outputId": "eb7162a7-dd60-4e53-a7c8-af299e92de3b"
      },
      "execution_count": null,
      "outputs": [
        {
          "output_type": "stream",
          "name": "stdout",
          "text": [
            "[1, 4, 9, 16, 25]\n"
          ]
        }
      ]
    },
    {
      "cell_type": "markdown",
      "source": [
        "**MÉTODOS DA CLASSE LIST**\n",
        "- .append(...) --> Adiciona o valor no final da lista\n",
        "- .copy() --> Copia a lista\n",
        "- .count() --> Conta quantas vezes um obj se repete dentro da lista\n",
        "- .extend() --> Junta 2 listas\n",
        "- .index() --> Devolve o numero da posicao do obj na lista\n",
        "- .pop(...) --> Retira o index da lista\n",
        "- .sort() --> Organiza a lista\n",
        "-- sort(key=...) -- Organiza a lista com argumento\n",
        "- len() --> Tamanho da lista  "
      ],
      "metadata": {
        "id": "DfKPq87qiFvA"
      }
    },
    {
      "cell_type": "code",
      "source": [
        "# Append\n",
        "carros = ['Gol','Ferrari','Palio']\n",
        "\n",
        "carros.append('Uno')\n",
        "print(carros)"
      ],
      "metadata": {
        "colab": {
          "base_uri": "https://localhost:8080/"
        },
        "id": "lnzaJd6yi2Fp",
        "outputId": "cc05d331-c043-4ee8-8764-52aa12f587ae"
      },
      "execution_count": null,
      "outputs": [
        {
          "output_type": "stream",
          "name": "stdout",
          "text": [
            "['Gol', 'Ferrari', 'Palio', 'Uno']\n"
          ]
        }
      ]
    },
    {
      "cell_type": "code",
      "source": [
        "# Copy\n",
        "carros_2 = carros.copy()\n",
        "print(carros_2)"
      ],
      "metadata": {
        "colab": {
          "base_uri": "https://localhost:8080/"
        },
        "id": "7rFukBFNk2l4",
        "outputId": "6cafe64b-1b9a-40cb-87a2-bb2c77a28343"
      },
      "execution_count": null,
      "outputs": [
        {
          "output_type": "stream",
          "name": "stdout",
          "text": [
            "['Gol', 'Ferrari', 'Palio', 'Uno']\n"
          ]
        }
      ]
    },
    {
      "cell_type": "code",
      "source": [
        "# Count\n",
        "print(carros.count('Gol'))"
      ],
      "metadata": {
        "colab": {
          "base_uri": "https://localhost:8080/"
        },
        "id": "CsLU0TrLk7On",
        "outputId": "91523709-ed5a-4356-ba91-408aaf4221b8"
      },
      "execution_count": null,
      "outputs": [
        {
          "output_type": "stream",
          "name": "stdout",
          "text": [
            "1\n"
          ]
        }
      ]
    },
    {
      "cell_type": "code",
      "source": [
        "# extend\n",
        "carros_f1 = ['Ferrari','Red Bull','McLaren']\n",
        "\n",
        "carros.extend(carros_f1)\n",
        "print(carros)"
      ],
      "metadata": {
        "colab": {
          "base_uri": "https://localhost:8080/"
        },
        "id": "KXSg5NbAlCJM",
        "outputId": "9e8aeedc-439d-4307-ab17-f969fbece03a"
      },
      "execution_count": null,
      "outputs": [
        {
          "output_type": "stream",
          "name": "stdout",
          "text": [
            "['Gol', 'Ferrari', 'Palio', 'Uno', 'Ferrari', 'Red Bull', 'McLaren']\n"
          ]
        }
      ]
    },
    {
      "cell_type": "code",
      "source": [
        "# Index\n",
        "carros_f1.index('Red Bull')"
      ],
      "metadata": {
        "colab": {
          "base_uri": "https://localhost:8080/"
        },
        "id": "PCqm0j7ulGcC",
        "outputId": "dfb31e74-dc7a-4b52-b761-07604170e54c"
      },
      "execution_count": null,
      "outputs": [
        {
          "output_type": "execute_result",
          "data": {
            "text/plain": [
              "1"
            ]
          },
          "metadata": {},
          "execution_count": 23
        }
      ]
    },
    {
      "cell_type": "code",
      "source": [
        "# Pop\n",
        "carros_f1.pop(1)\n",
        "print(carros_f1)"
      ],
      "metadata": {
        "colab": {
          "base_uri": "https://localhost:8080/"
        },
        "id": "Xyz_gPPdlQe1",
        "outputId": "b9205c91-f98e-4c45-a79a-40f97c38c388"
      },
      "execution_count": null,
      "outputs": [
        {
          "output_type": "stream",
          "name": "stdout",
          "text": [
            "['Ferrari', 'McLaren']\n"
          ]
        }
      ]
    },
    {
      "cell_type": "code",
      "source": [
        "# Sort\n",
        "carros.sort() # Ordem Alfabética\n",
        "print(carros)\n",
        "\n",
        "carros.sort(key= lambda x:len(x)) # Ordem de Tamanho da String\n",
        "print(carros)"
      ],
      "metadata": {
        "colab": {
          "base_uri": "https://localhost:8080/"
        },
        "id": "ydQzneSClbFM",
        "outputId": "cdd761a7-653e-46b3-aa5a-46c9f093a1a1"
      },
      "execution_count": null,
      "outputs": [
        {
          "output_type": "stream",
          "name": "stdout",
          "text": [
            "['Ferrari', 'Ferrari', 'Gol', 'McLaren', 'Palio', 'Red Bull', 'Uno']\n",
            "['Gol', 'Uno', 'Palio', 'Ferrari', 'Ferrari', 'McLaren', 'Red Bull']\n"
          ]
        }
      ]
    },
    {
      "cell_type": "code",
      "source": [
        "len(carros)"
      ],
      "metadata": {
        "id": "Thkl0HEJl1QC",
        "outputId": "c430ba89-c358-4e35-8970-cb9d1f0473ce",
        "colab": {
          "base_uri": "https://localhost:8080/"
        }
      },
      "execution_count": null,
      "outputs": [
        {
          "output_type": "execute_result",
          "data": {
            "text/plain": [
              "7"
            ]
          },
          "metadata": {},
          "execution_count": 28
        }
      ]
    }
  ]
}
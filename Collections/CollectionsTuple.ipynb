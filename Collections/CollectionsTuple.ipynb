{
  "nbformat": 4,
  "nbformat_minor": 0,
  "metadata": {
    "colab": {
      "provenance": []
    },
    "kernelspec": {
      "name": "python3",
      "display_name": "Python 3"
    },
    "language_info": {
      "name": "python"
    }
  },
  "cells": [
    {
      "cell_type": "markdown",
      "source": [
        "# **TUPLAS**\n",
        "\n",
        "Semelhante a Lista porém imutável"
      ],
      "metadata": {
        "id": "YJ7LLd3PKuF4"
      }
    },
    {
      "cell_type": "code",
      "execution_count": 2,
      "metadata": {
        "id": "PeB7L8ubKJ6C"
      },
      "outputs": [],
      "source": [
        "frutas = ('Laranja','Maca','Pera',)\n",
        "\n",
        "numeros = tuple([1,2,3,4])"
      ]
    },
    {
      "cell_type": "markdown",
      "source": [
        "**Acessando dados dentro da Tupla**"
      ],
      "metadata": {
        "id": "sugfZ7P9LF37"
      }
    },
    {
      "cell_type": "code",
      "source": [
        "frutas[0]"
      ],
      "metadata": {
        "colab": {
          "base_uri": "https://localhost:8080/",
          "height": 36
        },
        "id": "MR-0ah7cLEgo",
        "outputId": "c359050a-6193-4d92-97b2-f4bbcd989629"
      },
      "execution_count": 4,
      "outputs": [
        {
          "output_type": "execute_result",
          "data": {
            "text/plain": [
              "'Laranja'"
            ],
            "application/vnd.google.colaboratory.intrinsic+json": {
              "type": "string"
            }
          },
          "metadata": {},
          "execution_count": 4
        }
      ]
    },
    {
      "cell_type": "code",
      "source": [
        "numeros[0]"
      ],
      "metadata": {
        "colab": {
          "base_uri": "https://localhost:8080/"
        },
        "id": "9vgPUibbK9aR",
        "outputId": "ca914e80-6cf1-4b27-a3b4-8c1c6f0db01e"
      },
      "execution_count": 3,
      "outputs": [
        {
          "output_type": "execute_result",
          "data": {
            "text/plain": [
              "1"
            ]
          },
          "metadata": {},
          "execution_count": 3
        }
      ]
    },
    {
      "cell_type": "markdown",
      "source": [
        "**Tuplas BI-DIMENSIONAIS**"
      ],
      "metadata": {
        "id": "RiAqhV5KLQ02"
      }
    },
    {
      "cell_type": "code",
      "source": [
        "matriz = (\n",
        "    (1,'a',2),\n",
        "    ('b',3,4),\n",
        "    (6,5,'c')\n",
        ")\n",
        "\n",
        "print(matriz[0])\n",
        "print(matriz[0][0])"
      ],
      "metadata": {
        "colab": {
          "base_uri": "https://localhost:8080/"
        },
        "id": "Ot7c8D-SLXHf",
        "outputId": "b266679b-8fe7-4f9a-8712-867e2588ee18"
      },
      "execution_count": 6,
      "outputs": [
        {
          "output_type": "stream",
          "name": "stdout",
          "text": [
            "(1, 'a', 2)\n",
            "1\n"
          ]
        }
      ]
    },
    {
      "cell_type": "markdown",
      "source": [
        "**FATIAMENTO**"
      ],
      "metadata": {
        "id": "MbJV0BerLvtV"
      }
    },
    {
      "cell_type": "code",
      "source": [
        "tupla = ('p','y','t','h','o','n',)\n",
        "\n",
        "print(tupla[2:])\n",
        "print(tupla[:2])\n",
        "print(tupla[1:3])\n",
        "print(tupla[0:3:2])\n",
        "print(tupla[::-1])"
      ],
      "metadata": {
        "colab": {
          "base_uri": "https://localhost:8080/"
        },
        "id": "-U_wDNFlLtmI",
        "outputId": "6ab93a45-b299-416d-c5cc-f6ea4ab8dae8"
      },
      "execution_count": 7,
      "outputs": [
        {
          "output_type": "stream",
          "name": "stdout",
          "text": [
            "('t', 'h', 'o', 'n')\n",
            "('p', 'y')\n",
            "('y', 't')\n",
            "('p', 't')\n",
            "('n', 'o', 'h', 't', 'y', 'p')\n"
          ]
        }
      ]
    },
    {
      "cell_type": "markdown",
      "source": [
        "**ITERANDO**"
      ],
      "metadata": {
        "id": "OdDhU0gYMGZ3"
      }
    },
    {
      "cell_type": "code",
      "source": [
        "carro = ('Gol','Ferrari','Palio',)\n",
        "\n",
        "for car in carro:\n",
        "  print(car)"
      ],
      "metadata": {
        "colab": {
          "base_uri": "https://localhost:8080/"
        },
        "id": "BVnSeaMsMCh6",
        "outputId": "3f42cac7-69e2-4b94-ba4a-c2c5c7b840c4"
      },
      "execution_count": 8,
      "outputs": [
        {
          "output_type": "stream",
          "name": "stdout",
          "text": [
            "Gol\n",
            "Ferrari\n",
            "Palio\n"
          ]
        }
      ]
    },
    {
      "cell_type": "markdown",
      "source": [
        "**MÉTODOS DA TUPLA**\n",
        "\n",
        "- .count() --> Conta quantas vezes um obj se repete dentro da lista\n",
        "- .index() --> Devolve o numero da posicao do obj na lista\n",
        "- len() --> Tamanho da lista"
      ],
      "metadata": {
        "id": "ncK2KdcqMQey"
      }
    },
    {
      "cell_type": "code",
      "source": [
        "carro = ('Gol','Ferrari','Palio',)\n",
        "\n",
        "# Count\n",
        "print(carro.count('Gol'))"
      ],
      "metadata": {
        "colab": {
          "base_uri": "https://localhost:8080/"
        },
        "id": "lAxtuIMSMavV",
        "outputId": "68efc565-6c6b-4bbc-b905-8f163c0cdbb2"
      },
      "execution_count": 9,
      "outputs": [
        {
          "output_type": "stream",
          "name": "stdout",
          "text": [
            "1\n"
          ]
        }
      ]
    },
    {
      "cell_type": "code",
      "source": [
        "# Index\n",
        "print(carro.index('Ferrari'))"
      ],
      "metadata": {
        "colab": {
          "base_uri": "https://localhost:8080/"
        },
        "id": "aYJblKChMhbc",
        "outputId": "d262087d-66cb-42ec-aad8-c597d5f59e53"
      },
      "execution_count": 10,
      "outputs": [
        {
          "output_type": "stream",
          "name": "stdout",
          "text": [
            "1\n"
          ]
        }
      ]
    },
    {
      "cell_type": "code",
      "source": [
        "# Len\n",
        "print(len(carro))"
      ],
      "metadata": {
        "colab": {
          "base_uri": "https://localhost:8080/"
        },
        "id": "ZtE9dL0RMmDG",
        "outputId": "51240046-e6f4-4cd1-9cb9-c3c53c4da95a"
      },
      "execution_count": 11,
      "outputs": [
        {
          "output_type": "stream",
          "name": "stdout",
          "text": [
            "3\n"
          ]
        }
      ]
    }
  ]
}